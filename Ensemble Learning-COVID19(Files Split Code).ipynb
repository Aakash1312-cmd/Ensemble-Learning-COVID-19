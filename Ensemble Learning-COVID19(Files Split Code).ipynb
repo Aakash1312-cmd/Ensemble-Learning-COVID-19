{
 "cells": [
  {
   "cell_type": "code",
   "execution_count": 14,
   "id": "14cf91d1",
   "metadata": {},
   "outputs": [],
   "source": [
    "import os\n",
    "import numpy as np\n",
    "from tensorflow.keras.preprocessing.image import ImageDataGenerator\n",
    "import random\n",
    "import shutil"
   ]
  },
  {
   "cell_type": "code",
   "execution_count": 15,
   "id": "df64dae8",
   "metadata": {},
   "outputs": [],
   "source": [
    "covid_folder = \"Downloads/COVID_19/COVID\"\n",
    "non_covid_folder = \"Downloads/COVID_19/non-COVID\""
   ]
  },
  {
   "cell_type": "code",
   "execution_count": 47,
   "id": "7851f8da",
   "metadata": {},
   "outputs": [],
   "source": [
    "def create_train_test_folders(folder):\n",
    "    train_folder = os.path.join(folder, \"train\")\n",
    "    test_folder = os.path.join(folder, \"test\")\n",
    "    os.makedirs(train_folder, exist_ok=True)\n",
    "    os.makedirs(test_folder, exist_ok=True)\n",
    "\n",
    "    return train_folder, test_folder"
   ]
  },
  {
   "cell_type": "code",
   "execution_count": 48,
   "id": "faf2c16a",
   "metadata": {},
   "outputs": [],
   "source": [
    "train_covid_folder, test_covid_folder = create_train_test_folders(covid_folder)\n",
    "train_non_covid_folder, test_non_covid_folder = create_train_test_folders(non_covid_folder)\n"
   ]
  },
  {
   "cell_type": "code",
   "execution_count": 49,
   "id": "8ee0a320",
   "metadata": {},
   "outputs": [],
   "source": [
    "def split_data(source, train_dest, test_dest, split_ratio):\n",
    "    files = os.listdir(source)\n",
    "    random.shuffle(files)\n",
    "    split_index = int(len(files) * split_ratio)\n",
    "    train_files = files[:split_index]\n",
    "    test_files = files[split_index:]\n",
    "\n",
    "    # Move train files\n",
    "    for file in train_files:\n",
    "        if not os.path.isdir(os.path.join(source, file)):  # Check if it's not a directory\n",
    "            shutil.move(os.path.join(source, file), os.path.join(train_dest, file))\n",
    "\n",
    "    # Move test files\n",
    "    for file in test_files:\n",
    "        if not os.path.isdir(os.path.join(source, file)):  # Check if it's not a directory\n",
    "            shutil.move(os.path.join(source, file), os.path.join(test_dest, file))\n"
   ]
  },
  {
   "cell_type": "code",
   "execution_count": 50,
   "id": "6986554f",
   "metadata": {},
   "outputs": [],
   "source": [
    "split_data(covid_folder, train_covid_folder, test_covid_folder, split_ratio=0.8)\n"
   ]
  },
  {
   "cell_type": "code",
   "execution_count": 51,
   "id": "aa32146f",
   "metadata": {},
   "outputs": [],
   "source": [
    "split_data(non_covid_folder, train_non_covid_folder, test_non_covid_folder, split_ratio=0.8)"
   ]
  }
 ],
 "metadata": {
  "kernelspec": {
   "display_name": "Python 3 (ipykernel)",
   "language": "python",
   "name": "python3"
  },
  "language_info": {
   "codemirror_mode": {
    "name": "ipython",
    "version": 3
   },
   "file_extension": ".py",
   "mimetype": "text/x-python",
   "name": "python",
   "nbconvert_exporter": "python",
   "pygments_lexer": "ipython3",
   "version": "3.10.9"
  }
 },
 "nbformat": 4,
 "nbformat_minor": 5
}
