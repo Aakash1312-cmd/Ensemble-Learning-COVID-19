{
 "cells": [
  {
   "cell_type": "code",
   "execution_count": 2,
   "id": "faa2a223",
   "metadata": {},
   "outputs": [],
   "source": [
    "from tensorflow.compat.v1 import ConfigProto\n",
    "from tensorflow.compat.v1 import InteractiveSession\n",
    "\n",
    "config = ConfigProto()\n",
    "config.gpu_options.per_process_gpu_memory_fraction = 0.5\n",
    "config.gpu_options.allow_growth = True\n",
    "session = InteractiveSession(config=config)"
   ]
  },
  {
   "cell_type": "code",
   "execution_count": 3,
   "id": "faf27aac",
   "metadata": {},
   "outputs": [],
   "source": [
    "import tensorflow as tf\n",
    "from tensorflow.keras.preprocessing.image import ImageDataGenerator"
   ]
  },
  {
   "cell_type": "code",
   "execution_count": 4,
   "id": "46cd0679",
   "metadata": {},
   "outputs": [],
   "source": [
    "from tensorflow.keras.models import Sequential\n",
    "from tensorflow.keras.layers import Conv2D,MaxPooling2D,Flatten,Dense,Dropout,Conv1D,MaxPooling1D,BatchNormalization\n",
    "from tensorflow.keras.optimizers import SGD\n",
    "from tensorflow.keras.datasets import mnist\n",
    "from tensorflow.keras.utils import to_categorical\n",
    "from sklearn.model_selection import train_test_split\n",
    "from sklearn.svm import SVC  \n",
    "import matplotlib.pyplot as plt"
   ]
  },
  {
   "cell_type": "code",
   "execution_count": 5,
   "id": "3f4ef622",
   "metadata": {},
   "outputs": [],
   "source": [
    "IMAGE_SIZE = [224, 224]\n",
    "\n",
    "train_path = 'Downloads/COVID_19/train'\n",
    "valid_path = 'Downloads/COVID_19/test'"
   ]
  },
  {
   "cell_type": "code",
   "execution_count": 6,
   "id": "cdf4976c",
   "metadata": {},
   "outputs": [],
   "source": [
    "from tensorflow.keras.preprocessing.image import ImageDataGenerator\n",
    "\n",
    "img_height, img_width = 224, 224\n",
    "\n",
    "# Data augmentation and normalization\n",
    "train_datagen = ImageDataGenerator(\n",
    "    rescale=1./255,\n",
    "    rotation_range=20,\n",
    "    width_shift_range=0.2,\n",
    "    height_shift_range=0.2,\n",
    "    shear_range=0.2,\n",
    "    zoom_range=0.2,\n",
    "    horizontal_flip=True\n",
    ")\n",
    "\n",
    "test_datagen = ImageDataGenerator(rescale = 1./255)"
   ]
  },
  {
   "cell_type": "code",
   "execution_count": 7,
   "id": "5113949e",
   "metadata": {},
   "outputs": [
    {
     "name": "stdout",
     "output_type": "stream",
     "text": [
      "Found 1028 images belonging to 2 classes.\n"
     ]
    }
   ],
   "source": [
    "training_covid_generator = train_datagen.flow_from_directory('Downloads/COVID_19/train',\n",
    "                                                 target_size = (224, 224),\n",
    "                                                 batch_size = 32,\n",
    "                                                 shuffle=False,\n",
    "                                                 class_mode = 'binary')"
   ]
  },
  {
   "cell_type": "code",
   "execution_count": 8,
   "id": "590173d8",
   "metadata": {},
   "outputs": [
    {
     "name": "stdout",
     "output_type": "stream",
     "text": [
      "Found 1028 images belonging to 2 classes.\n"
     ]
    }
   ],
   "source": [
    "train_covid_generator = train_datagen.flow_from_directory(\n",
    "    'Downloads/COVID_19/train',\n",
    "    target_size=(img_height, img_width),\n",
    "    batch_size=32,\n",
    "    class_mode='binary'\n",
    ")\n"
   ]
  },
  {
   "cell_type": "code",
   "execution_count": 9,
   "id": "ac7aaccc",
   "metadata": {},
   "outputs": [
    {
     "name": "stdout",
     "output_type": "stream",
     "text": [
      "Found 450 images belonging to 2 classes.\n"
     ]
    }
   ],
   "source": [
    "test_covid_generator = test_datagen.flow_from_directory(\n",
    "    'Downloads/COVID_19/test',\n",
    "    target_size=(img_height, img_width),\n",
    "    batch_size=32,\n",
    "    class_mode='binary'\n",
    ")"
   ]
  },
  {
   "cell_type": "code",
   "execution_count": 10,
   "id": "478e2364",
   "metadata": {},
   "outputs": [
    {
     "name": "stdout",
     "output_type": "stream",
     "text": [
      "Found 1028 images belonging to 2 classes.\n"
     ]
    }
   ],
   "source": [
    "train_non_covid_generator = train_datagen.flow_from_directory(\n",
    "    'Downloads/COVID_19/train',\n",
    "    target_size=(img_height, img_width),\n",
    "    batch_size=32,\n",
    "    class_mode='binary'\n",
    ")\n"
   ]
  },
  {
   "cell_type": "code",
   "execution_count": 11,
   "id": "8fcefed1",
   "metadata": {},
   "outputs": [
    {
     "name": "stdout",
     "output_type": "stream",
     "text": [
      "Found 450 images belonging to 2 classes.\n"
     ]
    }
   ],
   "source": [
    "test_non_covid_generator = test_datagen.flow_from_directory(\n",
    "    'Downloads/COVID_19/test',\n",
    "    target_size=(img_height, img_width),\n",
    "    batch_size=32,\n",
    "    class_mode='binary'\n",
    ")"
   ]
  },
  {
   "cell_type": "code",
   "execution_count": 12,
   "id": "04b0753b",
   "metadata": {},
   "outputs": [],
   "source": [
    "# E-NET Model (CNN)\n",
    "model = Sequential([\n",
    "    Conv2D(16, (3, 3), activation='relu', input_shape=(img_height, img_width, 3)),\n",
    "    MaxPooling2D(2, 2),\n",
    "    Conv2D(32, (3, 3), activation='relu'),\n",
    "    MaxPooling2D(2, 2),\n",
    "    Conv2D(64, (3, 3), activation='relu'),\n",
    "    MaxPooling2D(2, 2),\n",
    "    Flatten(),\n",
    "    Dense(512, activation='relu'),\n",
    "    Dense(1, activation='sigmoid')\n",
    "])"
   ]
  },
  {
   "cell_type": "code",
   "execution_count": 13,
   "id": "71b7cc98",
   "metadata": {},
   "outputs": [],
   "source": [
    "model.compile(optimizer='adam',\n",
    "              loss='binary_crossentropy',\n",
    "              metrics=['accuracy'])"
   ]
  },
  {
   "cell_type": "code",
   "execution_count": 14,
   "id": "69c583fe",
   "metadata": {},
   "outputs": [
    {
     "data": {
      "text/plain": [
       "<bound method Model.summary of <keras.src.engine.sequential.Sequential object at 0x28f11fb20>>"
      ]
     },
     "execution_count": 14,
     "metadata": {},
     "output_type": "execute_result"
    }
   ],
   "source": [
    "model.summary"
   ]
  },
  {
   "cell_type": "code",
   "execution_count": 15,
   "id": "7046e1b9",
   "metadata": {},
   "outputs": [
    {
     "name": "stdout",
     "output_type": "stream",
     "text": [
      "Epoch 1/10\n",
      "33/33 [==============================] - 9s 273ms/step - loss: 0.5453 - accuracy: 0.9553 - val_loss: 1.7006 - val_accuracy: 0.5489\n",
      "Epoch 2/10\n",
      "33/33 [==============================] - 9s 254ms/step - loss: 0.1976 - accuracy: 0.9553 - val_loss: 1.5145 - val_accuracy: 0.5489\n",
      "Epoch 3/10\n",
      "33/33 [==============================] - 9s 258ms/step - loss: 0.1901 - accuracy: 0.9553 - val_loss: 1.7448 - val_accuracy: 0.5489\n",
      "Epoch 4/10\n",
      "33/33 [==============================] - 9s 263ms/step - loss: 0.2013 - accuracy: 0.9553 - val_loss: 1.4832 - val_accuracy: 0.5489\n",
      "Epoch 5/10\n",
      "33/33 [==============================] - 9s 269ms/step - loss: 0.1927 - accuracy: 0.9553 - val_loss: 1.4201 - val_accuracy: 0.5489\n",
      "Epoch 6/10\n",
      "33/33 [==============================] - 9s 269ms/step - loss: 0.1912 - accuracy: 0.9553 - val_loss: 1.0789 - val_accuracy: 0.5489\n",
      "Epoch 7/10\n",
      "33/33 [==============================] - 9s 271ms/step - loss: 0.1970 - accuracy: 0.9553 - val_loss: 1.4900 - val_accuracy: 0.5489\n",
      "Epoch 8/10\n",
      "33/33 [==============================] - 9s 274ms/step - loss: 0.1855 - accuracy: 0.9553 - val_loss: 1.7443 - val_accuracy: 0.5489\n",
      "Epoch 9/10\n",
      "33/33 [==============================] - 9s 275ms/step - loss: 0.2005 - accuracy: 0.9553 - val_loss: 1.1715 - val_accuracy: 0.5489\n",
      "Epoch 10/10\n",
      "33/33 [==============================] - 9s 278ms/step - loss: 0.1905 - accuracy: 0.9553 - val_loss: 1.1839 - val_accuracy: 0.5489\n"
     ]
    }
   ],
   "source": [
    "history = model.fit(\n",
    "    train_covid_generator,\n",
    "    steps_per_epoch=len(train_covid_generator),\n",
    "    epochs=10,\n",
    "    validation_data=test_covid_generator,\n",
    "    validation_steps=len(test_covid_generator)\n",
    ")"
   ]
  },
  {
   "cell_type": "code",
   "execution_count": 16,
   "id": "fcf2b683",
   "metadata": {},
   "outputs": [],
   "source": [
    "from tensorflow.keras.applications import InceptionV3\n",
    "from tensorflow.keras.models import Model\n",
    "from tensorflow.keras.layers import GlobalAveragePooling2D, Dense\n"
   ]
  },
  {
   "cell_type": "code",
   "execution_count": 17,
   "id": "7c50e70a",
   "metadata": {},
   "outputs": [],
   "source": [
    "inception_model = InceptionV3(weights='imagenet', include_top=False, input_shape=(img_height, img_width, 3))"
   ]
  },
  {
   "cell_type": "code",
   "execution_count": 18,
   "id": "dde4a31e",
   "metadata": {},
   "outputs": [],
   "source": [
    "for layer in inception_model.layers:\n",
    "    layer.trainable = False\n",
    "\n",
    "# Add custom classifier layers\n",
    "x = GlobalAveragePooling2D()(inception_model.output)\n",
    "x = Dense(128, activation='relu')(x)\n",
    "predictions = Dense(1, activation='sigmoid')(x)\n"
   ]
  },
  {
   "cell_type": "code",
   "execution_count": 19,
   "id": "2b51ad06",
   "metadata": {},
   "outputs": [],
   "source": [
    "inception_model_final = Model(inputs=inception_model.input, outputs=predictions)\n",
    "\n",
    "# Compile the model\n",
    "inception_model_final.compile(optimizer='adam',\n",
    "                              loss='binary_crossentropy',\n",
    "                              metrics=['accuracy'])\n"
   ]
  },
  {
   "cell_type": "code",
   "execution_count": 20,
   "id": "1161291b",
   "metadata": {},
   "outputs": [
    {
     "name": "stdout",
     "output_type": "stream",
     "text": [
      "Epoch 1/5\n",
      "33/33 [==============================] - 29s 832ms/step - loss: 0.2704 - accuracy: 0.9533 - val_loss: 1.0400 - val_accuracy: 0.5489\n",
      "Epoch 2/5\n",
      "33/33 [==============================] - 77s 2s/step - loss: 0.1736 - accuracy: 0.9553 - val_loss: 1.8260 - val_accuracy: 0.5489\n",
      "Epoch 3/5\n",
      "33/33 [==============================] - 27s 811ms/step - loss: 0.1589 - accuracy: 0.9553 - val_loss: 1.0413 - val_accuracy: 0.5489\n",
      "Epoch 4/5\n",
      "33/33 [==============================] - 27s 819ms/step - loss: 0.1500 - accuracy: 0.9553 - val_loss: 1.0390 - val_accuracy: 0.5489\n",
      "Epoch 5/5\n",
      "33/33 [==============================] - 27s 832ms/step - loss: 0.1486 - accuracy: 0.9553 - val_loss: 1.3431 - val_accuracy: 0.5489\n"
     ]
    },
    {
     "data": {
      "text/plain": [
       "<keras.src.callbacks.History at 0x2bff9c220>"
      ]
     },
     "execution_count": 20,
     "metadata": {},
     "output_type": "execute_result"
    }
   ],
   "source": [
    "inception_model_final.fit(\n",
    "    train_covid_generator,\n",
    "    steps_per_epoch=len(train_covid_generator),\n",
    "    epochs=5,\n",
    "    validation_data=test_covid_generator,\n",
    "    validation_steps=len(test_covid_generator)\n",
    ")"
   ]
  },
  {
   "cell_type": "markdown",
   "id": "b294cc84",
   "metadata": {},
   "source": [
    "# ResNet34 Model"
   ]
  },
  {
   "cell_type": "code",
   "execution_count": 21,
   "id": "9646ee70",
   "metadata": {},
   "outputs": [],
   "source": [
    "from tensorflow.keras.applications import ResNet50\n",
    "from tensorflow.keras.models import Model\n",
    "from tensorflow.keras.layers import GlobalAveragePooling2D, Dense"
   ]
  },
  {
   "cell_type": "code",
   "execution_count": 22,
   "id": "d07f8529",
   "metadata": {},
   "outputs": [],
   "source": [
    "resnet_model = ResNet50(weights='imagenet', include_top=False, input_shape=(img_height, img_width, 3))"
   ]
  },
  {
   "cell_type": "code",
   "execution_count": 23,
   "id": "b595c9d9",
   "metadata": {},
   "outputs": [],
   "source": [
    "for layer in resnet_model.layers:\n",
    "    layer.trainable = False\n",
    "\n",
    "# Add custom classifier layers\n",
    "x = GlobalAveragePooling2D()(resnet_model.output)\n",
    "x = Dense(128, activation='relu')(x)\n",
    "predictions = Dense(1, activation='sigmoid')(x)\n"
   ]
  },
  {
   "cell_type": "code",
   "execution_count": 24,
   "id": "2ccfd2e6",
   "metadata": {},
   "outputs": [],
   "source": [
    "resnet_model_final = Model(inputs=resnet_model.input, outputs=predictions)\n",
    "\n",
    "# Compile the model\n",
    "resnet_model_final.compile(optimizer='adam',\n",
    "                           loss='binary_crossentropy',\n",
    "                           metrics=['accuracy'])"
   ]
  },
  {
   "cell_type": "code",
   "execution_count": 25,
   "id": "a47cbfb5",
   "metadata": {},
   "outputs": [
    {
     "name": "stdout",
     "output_type": "stream",
     "text": [
      "Epoch 1/5\n",
      "33/33 [==============================] - 42s 1s/step - loss: 0.2312 - accuracy: 0.9319 - val_loss: 1.1802 - val_accuracy: 0.5489\n",
      "Epoch 2/5\n",
      "33/33 [==============================] - 68s 2s/step - loss: 0.1917 - accuracy: 0.9553 - val_loss: 1.6210 - val_accuracy: 0.5489\n",
      "Epoch 3/5\n",
      "33/33 [==============================] - 41s 1s/step - loss: 0.1846 - accuracy: 0.9553 - val_loss: 1.5617 - val_accuracy: 0.5489\n",
      "Epoch 4/5\n",
      "33/33 [==============================] - 42s 1s/step - loss: 0.1822 - accuracy: 0.9553 - val_loss: 1.8349 - val_accuracy: 0.5489\n",
      "Epoch 5/5\n",
      "33/33 [==============================] - 42s 1s/step - loss: 0.1908 - accuracy: 0.9553 - val_loss: 1.4898 - val_accuracy: 0.5489\n"
     ]
    },
    {
     "data": {
      "text/plain": [
       "<keras.src.callbacks.History at 0x29d424310>"
      ]
     },
     "execution_count": 25,
     "metadata": {},
     "output_type": "execute_result"
    }
   ],
   "source": [
    "resnet_model_final.fit(\n",
    "    train_covid_generator,\n",
    "    steps_per_epoch=len(train_covid_generator),\n",
    "    epochs=5,\n",
    "    validation_data=test_covid_generator,\n",
    "    validation_steps=len(test_covid_generator)\n",
    ")"
   ]
  },
  {
   "cell_type": "markdown",
   "id": "39e2ce68",
   "metadata": {},
   "source": [
    "# DenseNet201 Model"
   ]
  },
  {
   "cell_type": "code",
   "execution_count": 26,
   "id": "b9a491ad",
   "metadata": {},
   "outputs": [],
   "source": [
    "from tensorflow.keras.applications import DenseNet201\n",
    "from tensorflow.keras.models import Model\n",
    "from tensorflow.keras.layers import GlobalAveragePooling2D, Dense\n",
    "\n",
    "# Load DenseNet201 pre-trained model\n",
    "densenet_model = DenseNet201(weights='imagenet', include_top=False, input_shape=(img_height, img_width, 3))"
   ]
  },
  {
   "cell_type": "code",
   "execution_count": 27,
   "id": "4a323c45",
   "metadata": {},
   "outputs": [],
   "source": [
    "for layer in densenet_model.layers:\n",
    "    layer.trainable = False\n"
   ]
  },
  {
   "cell_type": "code",
   "execution_count": 28,
   "id": "baf9a9fe",
   "metadata": {},
   "outputs": [],
   "source": [
    "x = GlobalAveragePooling2D()(densenet_model.output)\n",
    "x = Dense(128, activation='relu')(x)\n",
    "predictions = Dense(1, activation='sigmoid')(x)\n",
    "\n",
    "# Create DenseNet201 model\n",
    "densenet_model_final = Model(inputs=densenet_model.input, outputs=predictions)\n",
    "\n",
    "# Compile the model\n",
    "densenet_model_final.compile(optimizer='adam',\n",
    "                              loss='binary_crossentropy',\n",
    "                              metrics=['accuracy'])\n"
   ]
  },
  {
   "cell_type": "code",
   "execution_count": 29,
   "id": "00ff0cf4",
   "metadata": {},
   "outputs": [
    {
     "name": "stdout",
     "output_type": "stream",
     "text": [
      "Epoch 1/5\n",
      "33/33 [==============================] - 61s 2s/step - loss: 0.2350 - accuracy: 0.9358 - val_loss: 1.5022 - val_accuracy: 0.5489\n",
      "Epoch 2/5\n",
      "33/33 [==============================] - 57s 2s/step - loss: 0.1621 - accuracy: 0.9553 - val_loss: 1.1050 - val_accuracy: 0.5489\n",
      "Epoch 3/5\n",
      "33/33 [==============================] - 92s 3s/step - loss: 0.1416 - accuracy: 0.9553 - val_loss: 0.9600 - val_accuracy: 0.5822\n",
      "Epoch 4/5\n",
      "33/33 [==============================] - 56s 2s/step - loss: 0.1279 - accuracy: 0.9572 - val_loss: 1.1185 - val_accuracy: 0.5867\n",
      "Epoch 5/5\n",
      "33/33 [==============================] - 68s 2s/step - loss: 0.1298 - accuracy: 0.9640 - val_loss: 1.2519 - val_accuracy: 0.5867\n"
     ]
    },
    {
     "data": {
      "text/plain": [
       "<keras.src.callbacks.History at 0x29f37feb0>"
      ]
     },
     "execution_count": 29,
     "metadata": {},
     "output_type": "execute_result"
    }
   ],
   "source": [
    "# Train the model\n",
    "densenet_model_final.fit(\n",
    "    train_covid_generator,\n",
    "    steps_per_epoch=len(train_covid_generator),\n",
    "    epochs=5,\n",
    "    validation_data=test_covid_generator,\n",
    "    validation_steps=len(test_covid_generator)\n",
    ")"
   ]
  },
  {
   "cell_type": "markdown",
   "id": "ec5fee9b",
   "metadata": {},
   "source": [
    "# Ensemble Model"
   ]
  },
  {
   "cell_type": "code",
   "execution_count": 30,
   "id": "95264cfd",
   "metadata": {},
   "outputs": [
    {
     "name": "stdout",
     "output_type": "stream",
     "text": [
      "15/15 [==============================] - 10s 661ms/step\n",
      "15/15 [==============================] - 15s 941ms/step\n",
      "15/15 [==============================] - 22s 1s/step\n"
     ]
    }
   ],
   "source": [
    "inception_preds = inception_model_final.predict(test_covid_generator)\n",
    "resnet_preds = resnet_model_final.predict(test_covid_generator)\n",
    "densenet_preds = densenet_model_final.predict(test_covid_generator)\n"
   ]
  },
  {
   "cell_type": "code",
   "execution_count": 31,
   "id": "8d15d784",
   "metadata": {},
   "outputs": [],
   "source": [
    "avg_preds = (inception_preds + resnet_preds + densenet_preds) / 3\n",
    "\n"
   ]
  },
  {
   "cell_type": "code",
   "execution_count": 32,
   "id": "51ab560a",
   "metadata": {},
   "outputs": [],
   "source": [
    "import numpy as np"
   ]
  },
  {
   "cell_type": "code",
   "execution_count": 33,
   "id": "082ed27e",
   "metadata": {},
   "outputs": [],
   "source": [
    "ensemble_loss, ensemble_accuracy = np.mean(avg_preds), np.mean(avg_preds)\n"
   ]
  },
  {
   "cell_type": "code",
   "execution_count": 34,
   "id": "bf2f4409",
   "metadata": {},
   "outputs": [
    {
     "name": "stdout",
     "output_type": "stream",
     "text": [
      "Ensemble Model Loss: 0.9447234\n",
      "Ensemble Model Accuracy: 0.9447234\n"
     ]
    }
   ],
   "source": [
    "print(\"Ensemble Model Loss:\", ensemble_loss)\n",
    "print(\"Ensemble Model Accuracy:\", ensemble_accuracy)"
   ]
  },
  {
   "cell_type": "code",
   "execution_count": 35,
   "id": "427675ea",
   "metadata": {},
   "outputs": [],
   "source": [
    "from sklearn.metrics import accuracy_score, precision_score, recall_score, f1_score\n",
    "\n",
    "# Combine the predictions from individual models\n",
    "combined_preds = np.mean(np.array([inception_preds, resnet_preds, densenet_preds]), axis=0)\n",
    "\n",
    "# Convert the probabilities to class labels (0 or 1)\n",
    "ensemble_labels = np.round(combined_preds)\n",
    "\n",
    "# True labels from the test generator\n",
    "true_labels = test_covid_generator.classes\n",
    "\n",
    "# Calculate evaluation metrics\n",
    "ensemble_accuracy = accuracy_score(true_labels, ensemble_labels)\n",
    "ensemble_precision = precision_score(true_labels, ensemble_labels)\n",
    "ensemble_recall = recall_score(true_labels, ensemble_labels)\n",
    "ensemble_f1 = f1_score(true_labels, ensemble_labels)"
   ]
  },
  {
   "cell_type": "code",
   "execution_count": 36,
   "id": "0cee7243",
   "metadata": {},
   "outputs": [
    {
     "name": "stdout",
     "output_type": "stream",
     "text": [
      "Ensemble Model Accuracy: 0.5488888888888889\n",
      "Ensemble Model Precision: 0.5488888888888889\n",
      "Ensemble Model Recall: 1.0\n",
      "Ensemble Model F1 Score: 0.7087517934002869\n"
     ]
    }
   ],
   "source": [
    "print(\"Ensemble Model Accuracy:\", ensemble_accuracy)\n",
    "print(\"Ensemble Model Precision:\", ensemble_precision)\n",
    "print(\"Ensemble Model Recall:\", ensemble_recall)\n",
    "print(\"Ensemble Model F1 Score:\", ensemble_f1)\n"
   ]
  },
  {
   "cell_type": "code",
   "execution_count": 37,
   "id": "e20d2c80",
   "metadata": {},
   "outputs": [],
   "source": [
    "from sklearn.metrics import confusion_matrix"
   ]
  },
  {
   "cell_type": "code",
   "execution_count": 38,
   "id": "ecbabff5",
   "metadata": {},
   "outputs": [],
   "source": [
    "def calculate_metrics(true_labels, predicted_labels):\n",
    "    \n",
    "    tn, fp, fn, tp = confusion_matrix(true_labels, predicted_labels).ravel()\n",
    "\n",
    "\n",
    "    accuracy = (tp + tn) / (tp + tn + fp + fn)\n",
    "\n",
    "   \n",
    "    precision = tp / (tp + fp)\n",
    "\n",
    "\n",
    "    recall = tp / (tp + fn)\n",
    "\n",
    "    \n",
    "    f1_score = 2 * (precision * recall) / (precision + recall)\n",
    "\n",
    "    \n",
    "    specificity = tn / (tn + fp)\n",
    "\n",
    "    return accuracy, precision, recall, f1_score, specificity"
   ]
  },
  {
   "cell_type": "code",
   "execution_count": 39,
   "id": "52686954",
   "metadata": {},
   "outputs": [],
   "source": [
    "true_labels = [1, 0, 1, 0, 1]\n",
    "predicted_labels = [1, 0, 1, 1, 1]\n",
    "\n",
    "accuracy, precision, recall, f1_score, specificity = calculate_metrics(true_labels, predicted_labels)"
   ]
  },
  {
   "cell_type": "code",
   "execution_count": 40,
   "id": "912ff193",
   "metadata": {},
   "outputs": [
    {
     "name": "stdout",
     "output_type": "stream",
     "text": [
      "Accuracy: 0.8\n",
      "Precision: 0.75\n",
      "Recall: 1.0\n",
      "F1 Score: 0.8571428571428571\n",
      "Specificity: 0.5\n"
     ]
    }
   ],
   "source": [
    "print(\"Accuracy:\", accuracy)\n",
    "print(\"Precision:\", precision)\n",
    "print(\"Recall:\", recall)\n",
    "print(\"F1 Score:\", f1_score)\n",
    "print(\"Specificity:\", specificity)"
   ]
  },
  {
   "cell_type": "code",
   "execution_count": 41,
   "id": "5734f725",
   "metadata": {},
   "outputs": [],
   "source": [
    "import matplotlib.pyplot as plt\n",
    "\n",
    "\n",
    "def plot_loss_curves(loss_history, val_loss_history, title):\n",
    "    plt.plot(loss_history, label='Training Loss')\n",
    "    plt.plot(val_loss_history, label='Validation Loss')\n",
    "    plt.title(title)\n",
    "    plt.xlabel('Epoch')\n",
    "    plt.ylabel('Loss')\n",
    "    plt.legend()\n",
    "    plt.show()"
   ]
  },
  {
   "cell_type": "code",
   "execution_count": 42,
   "id": "81b3e42b",
   "metadata": {},
   "outputs": [],
   "source": [
    "assert isinstance(inception_model_final, tf.keras.models.Model), \"inception_model_final should be a Keras model\"\n",
    "\n",
    "# Compile the model with loss metric\n",
    "inception_model_final.compile(optimizer='adam',\n",
    "                              loss='binary_crossentropy',\n",
    "                              metrics=['accuracy'])"
   ]
  },
  {
   "cell_type": "code",
   "execution_count": 43,
   "id": "aece526f",
   "metadata": {},
   "outputs": [
    {
     "name": "stdout",
     "output_type": "stream",
     "text": [
      "Epoch 1/10\n",
      "33/33 [==============================] - 36s 1s/step - loss: 0.1749 - accuracy: 0.9553 - val_loss: 1.5469 - val_accuracy: 0.5489\n",
      "Epoch 2/10\n",
      "33/33 [==============================] - 39s 1s/step - loss: 0.1531 - accuracy: 0.9553 - val_loss: 1.1210 - val_accuracy: 0.5489\n",
      "Epoch 3/10\n",
      "33/33 [==============================] - 35s 1s/step - loss: 0.1403 - accuracy: 0.9553 - val_loss: 1.3371 - val_accuracy: 0.5489\n",
      "Epoch 4/10\n",
      "33/33 [==============================] - 34s 1s/step - loss: 0.1357 - accuracy: 0.9553 - val_loss: 1.2636 - val_accuracy: 0.5489\n",
      "Epoch 5/10\n",
      "33/33 [==============================] - 35s 1s/step - loss: 0.1304 - accuracy: 0.9553 - val_loss: 1.1134 - val_accuracy: 0.5622\n",
      "Epoch 6/10\n",
      "33/33 [==============================] - 36s 1s/step - loss: 0.1273 - accuracy: 0.9562 - val_loss: 1.2797 - val_accuracy: 0.5511\n",
      "Epoch 7/10\n",
      "33/33 [==============================] - 36s 1s/step - loss: 0.1227 - accuracy: 0.9562 - val_loss: 0.6782 - val_accuracy: 0.5978\n",
      "Epoch 8/10\n",
      "33/33 [==============================] - 36s 1s/step - loss: 0.1385 - accuracy: 0.9562 - val_loss: 1.0058 - val_accuracy: 0.5600\n",
      "Epoch 9/10\n",
      "33/33 [==============================] - 37s 1s/step - loss: 0.1142 - accuracy: 0.9591 - val_loss: 1.3806 - val_accuracy: 0.5556\n",
      "Epoch 10/10\n",
      "33/33 [==============================] - 36s 1s/step - loss: 0.1346 - accuracy: 0.9582 - val_loss: 0.9548 - val_accuracy: 0.5667\n"
     ]
    }
   ],
   "source": [
    "epochs = 10  # You can adjust the number of epochs as needed\n",
    "\n",
    "inception_history = inception_model_final.fit(\n",
    "    train_covid_generator,\n",
    "    steps_per_epoch=len(train_covid_generator),\n",
    "    epochs=epochs,\n",
    "    validation_data=test_covid_generator,\n",
    "    validation_steps=len(test_covid_generator)\n",
    ")\n"
   ]
  },
  {
   "cell_type": "code",
   "execution_count": 44,
   "id": "26ca3cf0",
   "metadata": {},
   "outputs": [
    {
     "data": {
      "image/png": "[encoded data removed]",
      "text/plain": [
       "<Figure size 640x480 with 1 Axes>"
      ]
     },
     "metadata": {},
     "output_type": "display_data"
    }
   ],
   "source": [
    "plot_loss_curves(inception_history.history['loss'], inception_history.history['val_loss'], \"InceptionV3 Loss Curves\")"
   ]
  },
  {
   "cell_type": "code",
   "execution_count": 45,
   "id": "449b979c",
   "metadata": {},
   "outputs": [
    {
     "name": "stdout",
     "output_type": "stream",
     "text": [
      "Epoch 1/10\n",
      "33/33 [==============================] - 56s 2s/step - loss: 0.1884 - accuracy: 0.9553 - val_loss: 1.3920 - val_accuracy: 0.5489\n",
      "Epoch 2/10\n",
      "33/33 [==============================] - 50s 2s/step - loss: 0.1822 - accuracy: 0.9553 - val_loss: 1.4516 - val_accuracy: 0.5489\n",
      "Epoch 3/10\n",
      "33/33 [==============================] - 52s 2s/step - loss: 0.1964 - accuracy: 0.9553 - val_loss: 1.8927 - val_accuracy: 0.5489\n",
      "Epoch 4/10\n",
      "33/33 [==============================] - 54s 2s/step - loss: 0.1858 - accuracy: 0.9553 - val_loss: 1.1075 - val_accuracy: 0.5489\n",
      "Epoch 5/10\n",
      "33/33 [==============================] - 53s 2s/step - loss: 0.1862 - accuracy: 0.9553 - val_loss: 1.4223 - val_accuracy: 0.5489\n",
      "Epoch 6/10\n",
      "33/33 [==============================] - 53s 2s/step - loss: 0.1844 - accuracy: 0.9553 - val_loss: 1.2592 - val_accuracy: 0.5489\n",
      "Epoch 7/10\n",
      "33/33 [==============================] - 61s 2s/step - loss: 0.1834 - accuracy: 0.9553 - val_loss: 1.6587 - val_accuracy: 0.5489\n",
      "Epoch 8/10\n",
      "33/33 [==============================] - 64s 2s/step - loss: 0.1870 - accuracy: 0.9553 - val_loss: 1.5081 - val_accuracy: 0.5489\n",
      "Epoch 9/10\n",
      "33/33 [==============================] - 53s 2s/step - loss: 0.1824 - accuracy: 0.9553 - val_loss: 1.8505 - val_accuracy: 0.5489\n",
      "Epoch 10/10\n",
      "33/33 [==============================] - 56s 2s/step - loss: 0.1846 - accuracy: 0.9553 - val_loss: 1.4131 - val_accuracy: 0.5489\n"
     ]
    },
    {
     "data": {
      "image/png": "[encoded data removed]",
      "text/plain": [
       "<Figure size 640x480 with 1 Axes>"
      ]
     },
     "metadata": {},
     "output_type": "display_data"
    }
   ],
   "source": [
    "# Compile the ResNet34 model with loss metric\n",
    "resnet_model_final.compile(optimizer='adam',\n",
    "                            loss='binary_crossentropy',\n",
    "                            metrics=['accuracy'])\n",
    "\n",
    "# Train the ResNet34 model\n",
    "resnet_history = resnet_model_final.fit(\n",
    "    train_covid_generator,\n",
    "    steps_per_epoch=len(train_covid_generator),\n",
    "    epochs=epochs,\n",
    "    validation_data=test_covid_generator,\n",
    "    validation_steps=len(test_covid_generator)\n",
    ")\n",
    "\n",
    "# Plot loss curves for ResNet34\n",
    "plot_loss_curves(resnet_history.history['loss'], resnet_history.history['val_loss'], \"ResNet34 Loss Curves\")\n"
   ]
  },
  {
   "cell_type": "code",
   "execution_count": 46,
   "id": "1a8b292d",
   "metadata": {},
   "outputs": [
    {
     "name": "stdout",
     "output_type": "stream",
     "text": [
      "Epoch 1/10\n",
      "33/33 [==============================] - 75s 2s/step - loss: 0.1323 - accuracy: 0.9611 - val_loss: 1.2601 - val_accuracy: 0.5978\n",
      "Epoch 2/10\n",
      "33/33 [==============================] - 62s 2s/step - loss: 0.1085 - accuracy: 0.9630 - val_loss: 0.5223 - val_accuracy: 0.7444\n",
      "Epoch 3/10\n",
      "33/33 [==============================] - 490s 15s/step - loss: 0.1273 - accuracy: 0.9601 - val_loss: 0.6967 - val_accuracy: 0.6933\n",
      "Epoch 4/10\n",
      "33/33 [==============================] - 55s 2s/step - loss: 0.0907 - accuracy: 0.9728 - val_loss: 0.9816 - val_accuracy: 0.6644\n",
      "Epoch 5/10\n",
      "33/33 [==============================] - 56s 2s/step - loss: 0.1063 - accuracy: 0.9660 - val_loss: 0.8146 - val_accuracy: 0.6911\n",
      "Epoch 6/10\n",
      "33/33 [==============================] - 64s 2s/step - loss: 0.0914 - accuracy: 0.9679 - val_loss: 1.0172 - val_accuracy: 0.6711\n",
      "Epoch 7/10\n",
      "33/33 [==============================] - 61s 2s/step - loss: 0.0803 - accuracy: 0.9747 - val_loss: 0.9203 - val_accuracy: 0.6844\n",
      "Epoch 8/10\n",
      "33/33 [==============================] - 68s 2s/step - loss: 0.0829 - accuracy: 0.9728 - val_loss: 0.8649 - val_accuracy: 0.6956\n",
      "Epoch 9/10\n",
      "33/33 [==============================] - 65s 2s/step - loss: 0.0705 - accuracy: 0.9835 - val_loss: 0.7673 - val_accuracy: 0.7156\n",
      "Epoch 10/10\n",
      "33/33 [==============================] - 59s 2s/step - loss: 0.0681 - accuracy: 0.9786 - val_loss: 1.0639 - val_accuracy: 0.6800\n"
     ]
    },
    {
     "data": {
      "image/png": "[encoded data removed]",
      "text/plain": [
       "<Figure size 640x480 with 1 Axes>"
      ]
     },
     "metadata": {},
     "output_type": "display_data"
    }
   ],
   "source": [
    "\n",
    "densenet_model_final.compile(optimizer='adam',\n",
    "                            loss='binary_crossentropy',\n",
    "                            metrics=['accuracy'])\n",
    "\n",
    "\n",
    "densenet_history = densenet_model_final.fit(\n",
    "    train_covid_generator,\n",
    "    steps_per_epoch=len(train_covid_generator),\n",
    "    epochs=epochs,\n",
    "    validation_data=test_covid_generator,\n",
    "    validation_steps=len(test_covid_generator)\n",
    ")\n",
    "\n",
    "# Plot loss curves \n",
    "plot_loss_curves(densenet_history.history['loss'], densenet_history.history['val_loss'], \"DenseNet201 Loss Curves\")\n"
   ]
  },
  {
   "cell_type": "code",
   "execution_count": 47,
   "id": "641df09f",
   "metadata": {},
   "outputs": [],
   "source": [
    "from sklearn.metrics import accuracy_score, precision_score, recall_score, f1_score, confusion_matrix"
   ]
  },
  {
   "cell_type": "code",
   "execution_count": 48,
   "id": "43bdf696",
   "metadata": {},
   "outputs": [],
   "source": [
    "def evaluate_model(model, test_generator):\n",
    "    predictions = model.predict(test_generator)\n",
    "    predicted_labels = (predictions > 0.5).astype(int)\n",
    "    true_labels = test_generator.classes\n",
    "    accuracy = accuracy_score(true_labels, predicted_labels)\n",
    "    precision = precision_score(true_labels, predicted_labels)\n",
    "    recall = recall_score(true_labels, predicted_labels)\n",
    "    f1 = f1_score(true_labels, predicted_labels)\n",
    "    tn, fp, fn, tp = confusion_matrix(true_labels, predicted_labels).ravel()\n",
    "    specificity = tn / (tn + fp)\n",
    "    return accuracy, precision, recall, f1, specificity"
   ]
  },
  {
   "cell_type": "code",
   "execution_count": 49,
   "id": "8b9c7929",
   "metadata": {},
   "outputs": [
    {
     "name": "stdout",
     "output_type": "stream",
     "text": [
      "15/15 [==============================] - 10s 572ms/step\n"
     ]
    }
   ],
   "source": [
    "inception_metrics = evaluate_model(inception_model_final, test_covid_generator)\n"
   ]
  },
  {
   "cell_type": "code",
   "execution_count": 50,
   "id": "7f75ede4",
   "metadata": {},
   "outputs": [
    {
     "name": "stdout",
     "output_type": "stream",
     "text": [
      "15/15 [==============================] - 14s 871ms/step\n"
     ]
    }
   ],
   "source": [
    "resnet_metrics = evaluate_model(resnet_model_final, test_covid_generator)\n"
   ]
  },
  {
   "cell_type": "code",
   "execution_count": 51,
   "id": "fb5bae50",
   "metadata": {},
   "outputs": [
    {
     "name": "stdout",
     "output_type": "stream",
     "text": [
      "15/15 [==============================] - 19s 1s/step\n"
     ]
    }
   ],
   "source": [
    "densenet_metrics = evaluate_model(densenet_model_final, test_covid_generator)"
   ]
  },
  {
   "cell_type": "code",
   "execution_count": 52,
   "id": "add5f503",
   "metadata": {},
   "outputs": [
    {
     "name": "stdout",
     "output_type": "stream",
     "text": [
      "15/15 [==============================] - 9s 596ms/step\n"
     ]
    }
   ],
   "source": [
    "inception_metrics_1 = evaluate_model(inception_model_final, test_non_covid_generator)"
   ]
  },
  {
   "cell_type": "code",
   "execution_count": 53,
   "id": "f6275f5e",
   "metadata": {},
   "outputs": [
    {
     "name": "stdout",
     "output_type": "stream",
     "text": [
      "15/15 [==============================] - 13s 884ms/step\n"
     ]
    }
   ],
   "source": [
    "resnet_metrics_1 = evaluate_model(resnet_model_final, test_non_covid_generator)\n"
   ]
  },
  {
   "cell_type": "code",
   "execution_count": 54,
   "id": "f46f6786",
   "metadata": {},
   "outputs": [
    {
     "name": "stdout",
     "output_type": "stream",
     "text": [
      "15/15 [==============================] - 18s 1s/step\n"
     ]
    }
   ],
   "source": [
    "densenet_metrics_1 = evaluate_model(densenet_model_final, test_non_covid_generator)"
   ]
  },
  {
   "cell_type": "markdown",
   "id": "db64c725",
   "metadata": {},
   "source": [
    "# To get the Accuracy, Precision, Recall, F1 Score, Specificity for the models"
   ]
  },
  {
   "cell_type": "code",
   "execution_count": 55,
   "id": "f8584da9",
   "metadata": {},
   "outputs": [
    {
     "name": "stdout",
     "output_type": "stream",
     "text": [
      "Metrics for COVID images:\n",
      "InceptionV3: Accuracy = 0.5622222222222222, Precision = 0.5565610859728507, Recall = 0.9959514170040485, F1 Score = 0.7140783744557329, Specificity = 0.034482758620689655\n",
      "ResNet34: Accuracy = 0.5488888888888889, Precision = 0.5488888888888889, Recall = 1.0, F1 Score = 0.7087517934002869, Specificity = 0.0\n",
      "DenseNet201: Accuracy = 0.5377777777777778, Precision = 0.5498721227621484, Recall = 0.8704453441295547, F1 Score = 0.6739811912225706, Specificity = 0.1330049261083744\n"
     ]
    }
   ],
   "source": [
    "print(\"Metrics for COVID images:\")\n",
    "print(\"InceptionV3: Accuracy = {}, Precision = {}, Recall = {}, F1 Score = {}, Specificity = {}\".format(*inception_metrics))\n",
    "print(\"ResNet34: Accuracy = {}, Precision = {}, Recall = {}, F1 Score = {}, Specificity = {}\".format(*resnet_metrics))\n",
    "print(\"DenseNet201: Accuracy = {}, Precision = {}, Recall = {}, F1 Score = {}, Specificity = {}\".format(*densenet_metrics))\n"
   ]
  },
  {
   "cell_type": "code",
   "execution_count": 56,
   "id": "37e506ac",
   "metadata": {},
   "outputs": [
    {
     "name": "stdout",
     "output_type": "stream",
     "text": [
      "Metrics for NON-COVID images:\n",
      "InceptionV3: Accuracy = 0.54, Precision = 0.5452488687782805, Recall = 0.9757085020242915, F1 Score = 0.6995645863570391, Specificity = 0.009852216748768473\n",
      "ResNet34: Accuracy = 0.5488888888888889, Precision = 0.5488888888888889, Recall = 1.0, F1 Score = 0.7087517934002869, Specificity = 0.0\n",
      "DenseNet201: Accuracy = 0.5511111111111111, Precision = 0.5575447570332481, Recall = 0.8825910931174089, F1 Score = 0.6833855799373041, Specificity = 0.1477832512315271\n"
     ]
    }
   ],
   "source": [
    "print(\"Metrics for NON-COVID images:\")\n",
    "print(\"InceptionV3: Accuracy = {}, Precision = {}, Recall = {}, F1 Score = {}, Specificity = {}\".format(*inception_metrics_1))\n",
    "print(\"ResNet34: Accuracy = {}, Precision = {}, Recall = {}, F1 Score = {}, Specificity = {}\".format(*resnet_metrics_1))\n",
    "print(\"DenseNet201: Accuracy = {}, Precision = {}, Recall = {}, F1 Score = {}, Specificity = {}\".format(*densenet_metrics_1))"
   ]
  },
  {
   "cell_type": "markdown",
   "id": "e1941bee",
   "metadata": {},
   "source": [
    "# Value of Accuracy,Precision,Recall,F1 Score,Specificity for the Ensemble Model"
   ]
  },
  {
   "cell_type": "code",
   "execution_count": 57,
   "id": "3db9cda6",
   "metadata": {},
   "outputs": [],
   "source": [
    "ensemble_labels = (avg_preds > 0.5).astype(int)"
   ]
  },
  {
   "cell_type": "code",
   "execution_count": 58,
   "id": "2a239f9b",
   "metadata": {},
   "outputs": [],
   "source": [
    "true_labels = test_covid_generator.classes"
   ]
  },
  {
   "cell_type": "code",
   "execution_count": 59,
   "id": "8003dc3e",
   "metadata": {},
   "outputs": [],
   "source": [
    "ensemble_accuracy = accuracy_score(true_labels, ensemble_labels)\n",
    "ensemble_precision = precision_score(true_labels, ensemble_labels)\n",
    "ensemble_recall = recall_score(true_labels, ensemble_labels)\n",
    "ensemble_f1 = f1_score(true_labels, ensemble_labels)\n",
    "tn, fp, fn, tp = confusion_matrix(true_labels, ensemble_labels).ravel()\n",
    "ensemble_specificity = tn / (tn + fp)\n"
   ]
  },
  {
   "cell_type": "code",
   "execution_count": 60,
   "id": "558d910e",
   "metadata": {},
   "outputs": [
    {
     "name": "stdout",
     "output_type": "stream",
     "text": [
      "Metrics for Ensemble Model:\n",
      "Accuracy = 0.5488888888888889, Precision = 0.5488888888888889, Recall = 1.0, F1 Score = 0.7087517934002869, Specificity = 0.0\n"
     ]
    }
   ],
   "source": [
    "print(\"Metrics for Ensemble Model:\")\n",
    "print(\"Accuracy = {}, Precision = {}, Recall = {}, F1 Score = {}, Specificity = {}\".format(ensemble_accuracy, ensemble_precision, ensemble_recall, ensemble_f1, ensemble_specificity))"
   ]
  }
 ],
 "metadata": {
  "kernelspec": {
   "display_name": "Python 3 (ipykernel)",
   "language": "python",
   "name": "python3"
  },
  "language_info": {
   "codemirror_mode": {
    "name": "ipython",
    "version": 3
   },
   "file_extension": ".py",
   "mimetype": "text/x-python",
   "name": "python",
   "nbconvert_exporter": "python",
   "pygments_lexer": "ipython3",
   "version": "3.10.9"
  }
 },
 "nbformat": 4,
 "nbformat_minor": 5
}
